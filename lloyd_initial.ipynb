{
 "cells": [
  {
   "cell_type": "code",
   "execution_count": 1,
   "metadata": {},
   "outputs": [],
   "source": [
    "import numpy as np\n",
    "from scipy.stats import norm\n",
    "import math\n",
    "import matplotlib.pyplot as plt\n",
    "import copy"
   ]
  },
  {
   "cell_type": "code",
   "execution_count": 2,
   "metadata": {},
   "outputs": [],
   "source": [
    "# x est la varibale représentant les données\n",
    "#K est la taille de x    \n",
    "#N est un chiffre relativement grand jouant le role de +inf \n",
    "#Cette fonction permet d'initialiser les partitions de Voronoi\n",
    "def bound(N,x,K):\n",
    "    l_bound= np.zeros(K+1)\n",
    "    l_bound[0]=-N\n",
    "    l_bound[-1]=N\n",
    "    for i in range(K-1):\n",
    "        l_bound[i+1]=(x[i]+x[i+1])/2.\n",
    "    return(l_bound)\n"
   ]
  },
  {
   "cell_type": "code",
   "execution_count": 3,
   "metadata": {},
   "outputs": [],
   "source": [
    "def lloyd_num(a,b): #Cette fonction retourne le numerateur de l'iteration de notre algorithme de Lloyd version init\n",
    "    j= math.e**(-a**2/2)\n",
    "    k= math.e**(-b**2/2)\n",
    "    return((-1/np.sqrt(2*math.pi)*(k-j)))"
   ]
  },
  {
   "cell_type": "code",
   "execution_count": 4,
   "metadata": {},
   "outputs": [],
   "source": [
    "def lloyd_den(a,b): #Celle ci retourne le denominateur de l'iteration de l'algorithme de Lloyd version init\n",
    "    return(norm.cdf(b)-norm.cdf(a))"
   ]
  },
  {
   "cell_type": "code",
   "execution_count": 5,
   "metadata": {},
   "outputs": [],
   "source": [
    "def lloyd_it(N,x,m,sigma,K): #algorithme de lloyd version initiale\n",
    "    x_it=copy.deepcopy(x)\n",
    "    l_bound=bound(N,x,K)\n",
    "    for i in range(K):\n",
    "        if (lloyd_den(l_bound[i],l_bound[i+1])!=0): #So we don't divide by 0!\n",
    "            x_it[i]=lloyd_num(l_bound[i],l_bound[i+1])/lloyd_den(l_bound[i],l_bound[i+1])\n",
    "    return(x_it)"
   ]
  },
  {
   "cell_type": "code",
   "execution_count": 6,
   "metadata": {},
   "outputs": [],
   "source": [
    "def weight(N,x,m,sigma,K): #Ce sont les poids de la mesure uniforme associée aux données\n",
    "    u=np.zeros(K)\n",
    "    l_bound=bound(N,x,K)\n",
    "    for i in range(K):\n",
    "        u[i]=lloyd_den(l_bound[i],l_bound[i+1])\n",
    "    return(u)   "
   ]
  },
  {
   "cell_type": "code",
   "execution_count": 7,
   "metadata": {},
   "outputs": [],
   "source": [
    "def error_normal_0_1(x,a,b):  # Détails du calcul dans le 1er point dans la section \"Deux exemples de l'algorithme de LLyod\"\n",
    "    return((1+x**2)*(norm.cdf(b,0,1)-norm.cdf(a,0,1)) + ( ((2*x)/math.sqrt(2*math.pi))*(math.e**(-(b**2/2))-math.e**(-(a**2/2))) ) + ( (1/math.sqrt(2*math.pi))*((math.e**(-(a**2/2))*a)-(math.e**(-(b**2/2))*b)) ) )"
   ]
  },
  {
   "cell_type": "code",
   "execution_count": 8,
   "metadata": {},
   "outputs": [],
   "source": [
    "def distortion_N_0_1(N,x,K): #Code de la fonction de distortion \n",
    "    cpt=0\n",
    "    tmp=0\n",
    "    l_bound=bound(N,x,K)\n",
    "    for i in range(0,K-1):\n",
    "        tmp= error_normal_0_1(x[i], l_bound[i], l_bound[i+1])\n",
    "        cpt+= tmp\n",
    "        #print(cpt)\n",
    "    return(cpt)"
   ]
  },
  {
   "cell_type": "code",
   "execution_count": 13,
   "metadata": {},
   "outputs": [
    {
     "data": {
      "text/plain": [
       "[<matplotlib.lines.Line2D at 0x19128c8e220>]"
      ]
     },
     "execution_count": 13,
     "metadata": {},
     "output_type": "execute_result"
    },
    {
     "data": {
      "image/png": "[encoded data removed]",
      "text/plain": [
       "<Figure size 432x288 with 1 Axes>"
      ]
     },
     "metadata": {
      "needs_background": "light"
     },
     "output_type": "display_data"
    }
   ],
   "source": [
    "supp= np.linspace(-4,4,100)    \n",
    "real_density=np.zeros(100)\n",
    "for i in range(100):\n",
    "    real_density[i]=norm.pdf(supp[i], 0 , 1)\n",
    "plt.plot(supp,real_density)"
   ]
  },
  {
   "cell_type": "code",
   "execution_count": 14,
   "metadata": {},
   "outputs": [
    {
     "name": "stdout",
     "output_type": "stream",
     "text": [
      "[0.03061575 0.08350133 0.13123353 0.16365045 0.17554109 0.16506439\n",
      " 0.13342625 0.08547177 0.03149544]\n"
     ]
    }
   ],
   "source": [
    "#Cas Pratique\n",
    "K=9 #taille de grille\n",
    "L=100 #nombres d'itérations de Lloyd\n",
    "N=200 #loi normale tronquée à l'intervalle [-200,200]\n",
    "m=0. #moyenne de l'échantillon\n",
    "sigma=1.\n",
    "np.random.seed(1)\n",
    "opt_grid=np.sort(np.random.normal(m,sigma,K)) #echantillon\n",
    "l_error_accurate=np.zeros(L)\n",
    "for i in range(L):\n",
    "    opt_grid= lloyd_it(N, opt_grid, m, sigma, K)\n",
    "    l_error_accurate[i]= math.sqrt(distortion_N_0_1(N,opt_grid,K))\n",
    "w= weight(N,opt_grid,m,sigma,K)\n",
    "print(w)"
   ]
  },
  {
   "cell_type": "code",
   "execution_count": 19,
   "metadata": {},
   "outputs": [
    {
     "data": {
      "text/plain": [
       "<matplotlib.collections.PathCollection at 0x1912a024970>"
      ]
     },
     "execution_count": 19,
     "metadata": {},
     "output_type": "execute_result"
    },
    {
     "data": {
      "image/png": "[encoded data removed]",
      "text/plain": [
       "<Figure size 432x288 with 1 Axes>"
      ]
     },
     "metadata": {
      "needs_background": "light"
     },
     "output_type": "display_data"
    }
   ],
   "source": [
    "x_simulation= np.linspace(-4,4,100)  \n",
    "simu_density=np.zeros(100)\n",
    "r=np.zeros(K)\n",
    "opt_x_bound=bound(N,opt_grid,K)\n",
    "for i in range(100):\n",
    "    for j in range(K):\n",
    "        if (x_simulation[i]>= opt_x_bound[j] and x_simulation[i]< opt_x_bound[j+1] ):\n",
    "            simu_density[i]= w[j]/(opt_x_bound[j+1]-opt_x_bound[j])\n",
    "            r[j]=w[j]/(opt_x_bound[j+1]-opt_x_bound[j])\n",
    "\n",
    "plt.plot(supp,real_density,\"b\",x_simulation,simu_density,\"r\")\n",
    "z=np.zeros(len(opt_grid))\n",
    "plt.scatter(opt_grid,r)"
   ]
  },
  {
   "cell_type": "code",
   "execution_count": 25,
   "metadata": {},
   "outputs": [
    {
     "data": {
      "text/plain": [
       "Text(0, 0.5, 'log-Erreur')"
      ]
     },
     "execution_count": 25,
     "metadata": {},
     "output_type": "execute_result"
    },
    {
     "data": {
      "image/png": "[encoded data removed]",
      "text/plain": [
       "<Figure size 432x288 with 1 Axes>"
      ]
     },
     "metadata": {
      "needs_background": "light"
     },
     "output_type": "display_data"
    }
   ],
   "source": [
    "plt.plot(np.log(l_error_accurate)[0:80])\n",
    "#plt.title(\"Log-erreur de quantification\") \n",
    "plt.xlabel(\"L\")\n",
    "plt.ylabel(\"log-Erreur\")"
   ]
  },
  {
   "cell_type": "code",
   "execution_count": 26,
   "metadata": {},
   "outputs": [
    {
     "data": {
      "text/plain": [
       "Text(0, 0.5, 'Erreur')"
      ]
     },
     "execution_count": 26,
     "metadata": {},
     "output_type": "execute_result"
    },
    {
     "data": {
      "image/png": "[encoded data removed]",
      "text/plain": [
       "<Figure size 432x288 with 1 Axes>"
      ]
     },
     "metadata": {
      "needs_background": "light"
     },
     "output_type": "display_data"
    }
   ],
   "source": [
    "plt.plot(l_error_accurate[:80])\n",
    "#plt.title(\"erreur de quantification\") \n",
    "plt.xlabel(\"L\")\n",
    "plt.ylabel(\"Erreur\")"
   ]
  }
 ],
 "metadata": {
  "kernelspec": {
   "display_name": "Python 3",
   "language": "python",
   "name": "python3"
  },
  "language_info": {
   "codemirror_mode": {
    "name": "ipython",
    "version": 3
   },
   "file_extension": ".py",
   "mimetype": "text/x-python",
   "name": "python",
   "nbconvert_exporter": "python",
   "pygments_lexer": "ipython3",
   "version": "3.8.5"
  }
 },
 "nbformat": 4,
 "nbformat_minor": 4
}
